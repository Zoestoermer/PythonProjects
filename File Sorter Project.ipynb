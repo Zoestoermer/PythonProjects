{
 "cells": [
  {
   "cell_type": "markdown",
   "id": "ee7946f0-3172-4942-83e4-0b06d77a112d",
   "metadata": {},
   "source": [
    "# Automatic File Sorter in File Explorer"
   ]
  },
  {
   "cell_type": "code",
   "execution_count": 1,
   "id": "10e67cdb-f28c-498a-881a-a4ac13384ec9",
   "metadata": {},
   "outputs": [],
   "source": [
    "# os stands for operating systems\n",
    "import os, shutil"
   ]
  },
  {
   "cell_type": "code",
   "execution_count": 8,
   "id": "fb032216-f72b-43de-89ed-5bf95f2a0a13",
   "metadata": {
    "tags": []
   },
   "outputs": [],
   "source": [
    "path = r\"C:/Users/zoegi/OneDrive/Desktop/Tutorials/Python Tutorials/\""
   ]
  },
  {
   "cell_type": "code",
   "execution_count": 12,
   "id": "2d87b439-3d8a-4bc0-a22c-8920cbe548de",
   "metadata": {
    "tags": []
   },
   "outputs": [],
   "source": [
    "file_name = os.listdir(path)"
   ]
  },
  {
   "cell_type": "code",
   "execution_count": 16,
   "id": "00f21aa7-4318-4663-bea5-d6f1e6aba17e",
   "metadata": {
    "tags": []
   },
   "outputs": [],
   "source": [
    "folder_names = ['txt files','image files','csv files','python files']\n",
    "\n",
    "for loop in range(0,4):\n",
    "    if not os.path.exists(path + folder_names[loop]):\n",
    "        print(path + folder_names[loop])\n",
    "        os.makedirs((path + folder_names[loop]))\n",
    "        \n",
    "for file in file_name:\n",
    "    if \".csv\" in file and not os.path.exists(path + \"csv files/\" + file):\n",
    "        shutil.move(path + file, path + \"csv files/\" + file)\n",
    "    elif \".txt\" in file and not os.path.exists(path + \"txt files/\" + file):\n",
    "        shutil.move(path + file, path + \"txt files/\" + file)\n",
    "    elif \".png\" in file and not os.path.exists(path + \"image files/\" + file):\n",
    "        shutil.move(path + file, path + \"image files/\" + file)\n",
    "    elif \".ipynb\" in file and not os.path.exists(path + \"python files/\" + file):\n",
    "        shutil.move(path + file, path + \"python files/\" + file)\n",
    "#    else:\n",
    "#        print(\"There were files in this path that were not moved.\")"
   ]
  },
  {
   "cell_type": "code",
   "execution_count": null,
   "id": "097733f8-ce5b-498a-9fe6-44c4dc470dc3",
   "metadata": {},
   "outputs": [],
   "source": []
  }
 ],
 "metadata": {
  "kernelspec": {
   "display_name": "Python 3 (ipykernel)",
   "language": "python",
   "name": "python3"
  },
  "language_info": {
   "codemirror_mode": {
    "name": "ipython",
    "version": 3
   },
   "file_extension": ".py",
   "mimetype": "text/x-python",
   "name": "python",
   "nbconvert_exporter": "python",
   "pygments_lexer": "ipython3",
   "version": "3.11.5"
  }
 },
 "nbformat": 4,
 "nbformat_minor": 5
}

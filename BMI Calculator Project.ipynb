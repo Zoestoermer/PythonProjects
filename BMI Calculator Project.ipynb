{
 "cells": [
  {
   "cell_type": "markdown",
   "id": "9df6bf40-2d6d-4c9d-a211-6d5c2c2d2b04",
   "metadata": {},
   "source": [
    "# BMI Calculator"
   ]
  },
  {
   "cell_type": "code",
   "execution_count": 10,
   "id": "db1e4fec-6f0e-494b-8337-fcda0b567a23",
   "metadata": {
    "tags": []
   },
   "outputs": [],
   "source": [
    "# BMI Calculation\n",
    "# (weight in pounds x 703) / (height in inches x height in inches)"
   ]
  },
  {
   "cell_type": "code",
   "execution_count": 39,
   "id": "5637de54-5ebc-4869-a81a-ea856bc40269",
   "metadata": {
    "tags": []
   },
   "outputs": [
    {
     "name": "stdin",
     "output_type": "stream",
     "text": [
      "Enter you name: MIss fatt asss\n",
      "Enter your weight in pounds: 137\n",
      "Enter your height in inches: 64\n"
     ]
    },
    {
     "name": "stdout",
     "output_type": "stream",
     "text": [
      "Calculated BMI: 23.5\n",
      "Miss Fatt Asss, your BMI of 23.5 is considered normal weight.\n"
     ]
    }
   ],
   "source": [
    "name = input(\"Enter you name:\")\n",
    "\n",
    "weight = int(input(\"Enter your weight in pounds:\"))\n",
    "\n",
    "height = int(input(\"Enter your height in inches:\"))\n",
    "\n",
    "BMI = round((weight * 703) / (height * height),1)\n",
    "\n",
    "str_BMI = str(BMI)\n",
    "print(\"Calculated BMI: \" + str_BMI)\n",
    "\n",
    "if BMI>0:\n",
    "    if(BMI<18.5):\n",
    "        print(name.title() +\", your BMI of \" + str_BMI + \" is considered under weight.\")\n",
    "    elif(BMI<=24.9):\n",
    "        print(name.title() +\", your BMI of \" + str_BMI + \" is considered normal weight.\")\n",
    "    elif(BMI<=29.9):\n",
    "        print(name.title() +\", your BMI of \" + str_BMI + \" is considered over weight.\")\n",
    "    elif(BMI<=34.9):\n",
    "        print(name.title() +\", your BMI of \" + str_BMI + \" is considered obese.\")\n",
    "    elif(BMI>=40):\n",
    "        print(name.title() +\", your BMI of \" + str_BMI + \" is considered severly obese.\")\n",
    "    else:\n",
    "        print(name.title() +\", your BMI of \" + str_BMI + \" is considered morbidly obese.\")\n",
    "else:\n",
    "    print(\"Enter valid input\")"
   ]
  },
  {
   "cell_type": "code",
   "execution_count": null,
   "id": "a5d6273d-27a0-4755-b935-a1ba843c27fc",
   "metadata": {},
   "outputs": [],
   "source": []
  },
  {
   "cell_type": "code",
   "execution_count": null,
   "id": "227f4247-8efa-4466-aedb-2b12bc44cd12",
   "metadata": {},
   "outputs": [],
   "source": []
  }
 ],
 "metadata": {
  "kernelspec": {
   "display_name": "Python 3 (ipykernel)",
   "language": "python",
   "name": "python3"
  },
  "language_info": {
   "codemirror_mode": {
    "name": "ipython",
    "version": 3
   },
   "file_extension": ".py",
   "mimetype": "text/x-python",
   "name": "python",
   "nbconvert_exporter": "python",
   "pygments_lexer": "ipython3",
   "version": "3.11.5"
  }
 },
 "nbformat": 4,
 "nbformat_minor": 5
}
